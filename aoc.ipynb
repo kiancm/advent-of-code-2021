{
 "cells": [
  {
   "cell_type": "code",
   "execution_count": 339,
   "metadata": {},
   "outputs": [],
   "source": [
    "from collections import defaultdict\n",
    "from enum import Enum\n",
    "from typing import List, NamedTuple, Tuple, Dict"
   ]
  },
  {
   "cell_type": "code",
   "execution_count": 340,
   "metadata": {},
   "outputs": [],
   "source": [
    "def get_lines(day: int) -> List[str]:\n",
    "    with open(f\"inputs/day{day}.txt\", \"r\") as f:\n",
    "        return f.read().splitlines()"
   ]
  },
  {
   "cell_type": "markdown",
   "metadata": {},
   "source": [
    "# --- Day 1: Sonar Sweep ---\n"
   ]
  },
  {
   "cell_type": "code",
   "execution_count": 341,
   "metadata": {},
   "outputs": [],
   "source": [
    "def count_increases(depths: List[int]) -> int:\n",
    "    \"\"\"Counts the number of times the depth increases\"\"\"\n",
    "\n",
    "    return sum(d2 - d1 > 0 for d1, d2 in zip(depths, depths[1:]))"
   ]
  },
  {
   "cell_type": "code",
   "execution_count": 342,
   "metadata": {},
   "outputs": [],
   "source": [
    "def sliding_sum(depths: List[int], window_size: int = 3) -> List[int]:\n",
    "    \"\"\"Computes a window_size-element sliding sum of the list of numbers\"\"\"\n",
    "\n",
    "    views: List[List[int]] = [depths[i:] for i in range(window_size)]\n",
    "    return [sum(window) for window in zip(*views)]"
   ]
  },
  {
   "cell_type": "code",
   "execution_count": 343,
   "metadata": {},
   "outputs": [
    {
     "name": "stdout",
     "output_type": "stream",
     "text": [
      "Answer #1: 1532\n",
      "Answer #2: 1571\n"
     ]
    }
   ],
   "source": [
    "lines: List[str] = get_lines(1)\n",
    "depths: List[int] = [int(line) for line in lines]\n",
    "\n",
    "print(f\"Answer #1: {count_increases(depths)}\")\n",
    "print(f\"Answer #2: {count_increases(sliding_sum(depths))}\")"
   ]
  },
  {
   "cell_type": "markdown",
   "metadata": {},
   "source": [
    "# --- Day 2: Dive! ---\n"
   ]
  },
  {
   "cell_type": "code",
   "execution_count": 344,
   "metadata": {},
   "outputs": [],
   "source": [
    "class Direction(Enum):\n",
    "    FORWARD = 1\n",
    "    DOWN = 2\n",
    "    UP = 3"
   ]
  },
  {
   "cell_type": "code",
   "execution_count": 345,
   "metadata": {},
   "outputs": [],
   "source": [
    "class Command(NamedTuple):\n",
    "    direction: Direction\n",
    "    magnitude: int"
   ]
  },
  {
   "cell_type": "code",
   "execution_count": 346,
   "metadata": {},
   "outputs": [],
   "source": [
    "def parse_command(command: str) -> Command:\n",
    "    \"\"\"Parses a command assuming the format\"\"\"\n",
    "    direction_mapping = {\"forward\": Direction.FORWARD, \"down\": Direction.DOWN, \"up\": Direction.UP}\n",
    "    raw_direction, raw_magnitude = command.split(\" \")\n",
    "    \n",
    "    return Command(direction_mapping[raw_direction], int(raw_magnitude))"
   ]
  },
  {
   "cell_type": "code",
   "execution_count": 347,
   "metadata": {},
   "outputs": [],
   "source": [
    "def position_times_depth(commands: List[Command], use_aim=False) -> int:\n",
    "    horizontal_position = 0\n",
    "    depth = 0\n",
    "    aim = 0\n",
    "\n",
    "    for command in commands:\n",
    "        match command, use_aim:\n",
    "            case Command(Direction.FORWARD, x), True:\n",
    "                horizontal_position += x\n",
    "                depth += x * aim\n",
    "            case Command(Direction.FORWARD, x), False:\n",
    "                horizontal_position += x\n",
    "            case Command(Direction.DOWN, x), True:\n",
    "                aim += x\n",
    "            case Command(Direction.DOWN, x), False:\n",
    "                depth += x\n",
    "            case Command(Direction.UP, x), True:\n",
    "                aim -= x\n",
    "            case Command(Direction.UP, x), False:\n",
    "                depth -= x\n",
    "    \n",
    "    return horizontal_position * depth"
   ]
  },
  {
   "cell_type": "code",
   "execution_count": 348,
   "metadata": {},
   "outputs": [
    {
     "name": "stdout",
     "output_type": "stream",
     "text": [
      "Answer #1 2120749\n",
      "Answer #2 2138382217\n"
     ]
    }
   ],
   "source": [
    "lines: List[str] = get_lines(2)\n",
    "commands: List[Command] = [parse_command(line) for line in lines]\n",
    "\n",
    "print(f\"Answer #1 {position_times_depth(commands)}\")\n",
    "print(f\"Answer #2 {position_times_depth(commands, use_aim=True)}\")"
   ]
  },
  {
   "cell_type": "markdown",
   "metadata": {},
   "source": [
    "# --- Day 3: Binary Diagnostic ---"
   ]
  },
  {
   "cell_type": "code",
   "execution_count": 349,
   "metadata": {},
   "outputs": [],
   "source": [
    "def parse_reading(line: str) -> List[int]:\n",
    "    return [int(x) for x in list(line)]"
   ]
  },
  {
   "cell_type": "code",
   "execution_count": 350,
   "metadata": {},
   "outputs": [],
   "source": [
    "def count_values(readings: List[List[int]]) -> Dict[Tuple[int, int], int]:\n",
    "    counter = defaultdict(int)\n",
    "\n",
    "    for reading in readings:\n",
    "        for i, value in enumerate(reading):\n",
    "            counter[(i, value)] += 1\n",
    "\n",
    "    return counter\n"
   ]
  },
  {
   "cell_type": "code",
   "execution_count": 351,
   "metadata": {},
   "outputs": [],
   "source": [
    "def get_power_consumption(readings: List[List[int]]) -> int:\n",
    "    epsilon_binary = []\n",
    "    gamma_binary = []\n",
    "\n",
    "    counter = count_values(readings)\n",
    "\n",
    "    for i in range(len(readings[0])):\n",
    "        most_common_value = max(0, 1, key=lambda value: counter[(i, value)])\n",
    "        least_common_value = int(not most_common_value)\n",
    "        \n",
    "        epsilon_binary.append(str(most_common_value))\n",
    "        gamma_binary.append(str(least_common_value))\n",
    "\n",
    "    epsilon = int(\"\".join(epsilon_binary), 2)\n",
    "    gamma = int(\"\".join(gamma_binary), 2)\n",
    "\n",
    "    return epsilon * gamma\n"
   ]
  },
  {
   "cell_type": "code",
   "execution_count": 376,
   "metadata": {},
   "outputs": [],
   "source": [
    "def get_life_support_rating(readings: List[List[int]]) -> int:    \n",
    "    oxygen_candidates = readings\n",
    "    co2_candidates = readings\n",
    "    oxygen_rating = None\n",
    "    co2_rating = None\n",
    "\n",
    "    for i in range(len(readings[0])):\n",
    "        oxygen_counter = count_values(oxygen_candidates)\n",
    "        co2_counter = count_values(co2_candidates)\n",
    "        o2_count_0 = oxygen_counter[(i, 0)]\n",
    "        o2_count_1 = oxygen_counter[(i, 1)]\n",
    "        co2_count_0 = co2_counter[(i, 0)]\n",
    "        co2_count_1 = co2_counter[(i, 1)]\n",
    "\n",
    "        if o2_count_0 == o2_count_1:\n",
    "            oxygen_predicate = lambda x: x == 1\n",
    "        else:\n",
    "            oxygen_predicate = lambda x: x == max(0, 1, key=lambda v: oxygen_counter[(i, v)])\n",
    "\n",
    "        if co2_count_0 == co2_count_1:\n",
    "            co2_predicate = lambda x: x == 0\n",
    "        else:\n",
    "            co2_predicate = lambda x: x == min(0, 1, key=lambda v: co2_counter[(i, v)])\n",
    "\n",
    "        oxygen_candidates = [reading for reading in oxygen_candidates if oxygen_predicate(reading[i])]\n",
    "        co2_candidates = [reading for reading in co2_candidates if co2_predicate(reading[i])]\n",
    "\n",
    "        if len(oxygen_candidates) == 1:\n",
    "            oxygen_rating = int(\"\".join(str(x) for x in oxygen_candidates[0]), 2)\n",
    "        \n",
    "        if len(co2_candidates) == 1:\n",
    "            co2_rating = int(\"\".join(str(x) for x in co2_candidates[0]), 2)\n",
    "\n",
    "        if oxygen_rating is not None and co2_rating is not None:\n",
    "            break\n",
    "\n",
    "    return oxygen_rating * co2_rating\n"
   ]
  },
  {
   "cell_type": "code",
   "execution_count": 377,
   "metadata": {},
   "outputs": [
    {
     "name": "stdout",
     "output_type": "stream",
     "text": [
      "Answer #1: 3374136\n",
      "Answer #2: 4432698\n"
     ]
    }
   ],
   "source": [
    "lines: List[str] = get_lines(3)\n",
    "readings: List[List[int]] = [parse_reading(line) for line in lines]\n",
    "\n",
    "print(f\"Answer #1: {get_power_consumption(readings)}\")\n",
    "print(f\"Answer #2: {get_life_support_rating(readings)}\")"
   ]
  }
 ],
 "metadata": {
  "interpreter": {
   "hash": "aee8b7b246df8f9039afb4144a1f6fd8d2ca17a180786b69acc140d282b71a49"
  },
  "kernelspec": {
   "display_name": "Python 3.9.7 64-bit",
   "language": "python",
   "name": "python3"
  },
  "language_info": {
   "codemirror_mode": {
    "name": "ipython",
    "version": 3
   },
   "file_extension": ".py",
   "mimetype": "text/x-python",
   "name": "python",
   "nbconvert_exporter": "python",
   "pygments_lexer": "ipython3",
   "version": "3.10.1"
  },
  "orig_nbformat": 4
 },
 "nbformat": 4,
 "nbformat_minor": 2
}
