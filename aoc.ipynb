{
 "cells": [
  {
   "cell_type": "code",
   "execution_count": 164,
   "metadata": {},
   "outputs": [],
   "source": [
    "from collections import Counter, defaultdict\n",
    "from enum import Enum\n",
    "from typing import List, NamedTuple, Tuple, Dict"
   ]
  },
  {
   "cell_type": "code",
   "execution_count": 165,
   "metadata": {},
   "outputs": [],
   "source": [
    "def get_lines(day: int) -> List[str]:\n",
    "    with open(f\"inputs/day{day}.txt\", \"r\") as f:\n",
    "        return f.read().splitlines()"
   ]
  },
  {
   "cell_type": "markdown",
   "metadata": {},
   "source": [
    "# --- Day 1: Sonar Sweep ---\n"
   ]
  },
  {
   "cell_type": "code",
   "execution_count": 166,
   "metadata": {},
   "outputs": [],
   "source": [
    "def count_increases(depths: List[int]) -> int:\n",
    "    \"\"\"Counts the number of times the depth increases\"\"\"\n",
    "\n",
    "    return sum(d2 - d1 > 0 for d1, d2 in zip(depths, depths[1:]))"
   ]
  },
  {
   "cell_type": "code",
   "execution_count": 167,
   "metadata": {},
   "outputs": [],
   "source": [
    "def sliding_sum(depths: List[int], window_size: int = 3) -> List[int]:\n",
    "    \"\"\"Computes a window_size-element sliding sum of the list of numbers\"\"\"\n",
    "\n",
    "    views: List[List[int]] = [depths[i:] for i in range(window_size)]\n",
    "    return [sum(window) for window in zip(*views)]"
   ]
  },
  {
   "cell_type": "code",
   "execution_count": 168,
   "metadata": {},
   "outputs": [
    {
     "name": "stdout",
     "output_type": "stream",
     "text": [
      "Answer #1: 1532\n",
      "Answer #2: 1571\n"
     ]
    }
   ],
   "source": [
    "lines: List[str] = get_lines(1)\n",
    "depths: List[int] = [int(line) for line in lines]\n",
    "\n",
    "print(f\"Answer #1: {count_increases(depths)}\")\n",
    "print(f\"Answer #2: {count_increases(sliding_sum(depths))}\")"
   ]
  },
  {
   "cell_type": "markdown",
   "metadata": {},
   "source": [
    "# --- Day 2: Dive! ---\n"
   ]
  },
  {
   "cell_type": "code",
   "execution_count": 169,
   "metadata": {},
   "outputs": [],
   "source": [
    "class Direction(Enum):\n",
    "    FORWARD = 1\n",
    "    DOWN = 2\n",
    "    UP = 3"
   ]
  },
  {
   "cell_type": "code",
   "execution_count": 170,
   "metadata": {},
   "outputs": [],
   "source": [
    "class Command(NamedTuple):\n",
    "    direction: Direction\n",
    "    magnitude: int"
   ]
  },
  {
   "cell_type": "code",
   "execution_count": 171,
   "metadata": {},
   "outputs": [],
   "source": [
    "def parse_command(command: str) -> Command:\n",
    "    \"\"\"Parses a command assuming the format\"\"\"\n",
    "    direction_mapping = {\"forward\": Direction.FORWARD, \"down\": Direction.DOWN, \"up\": Direction.UP}\n",
    "    raw_direction, raw_magnitude = command.split(\" \")\n",
    "    \n",
    "    return Command(direction_mapping[raw_direction], int(raw_magnitude))"
   ]
  },
  {
   "cell_type": "code",
   "execution_count": 172,
   "metadata": {},
   "outputs": [],
   "source": [
    "def position_times_depth(commands: List[Command], use_aim=False) -> int:\n",
    "    horizontal_position = 0\n",
    "    depth = 0\n",
    "    aim = 0\n",
    "\n",
    "    for command in commands:\n",
    "        match command, use_aim:\n",
    "            case Command(Direction.FORWARD, x), True:\n",
    "                horizontal_position += x\n",
    "                depth += x * aim\n",
    "            case Command(Direction.FORWARD, x), False:\n",
    "                horizontal_position += x\n",
    "            case Command(Direction.DOWN, x), True:\n",
    "                aim += x\n",
    "            case Command(Direction.DOWN, x), False:\n",
    "                depth += x\n",
    "            case Command(Direction.UP, x), True:\n",
    "                aim -= x\n",
    "            case Command(Direction.UP, x), False:\n",
    "                depth -= x\n",
    "    \n",
    "    return horizontal_position * depth"
   ]
  },
  {
   "cell_type": "code",
   "execution_count": 173,
   "metadata": {},
   "outputs": [
    {
     "name": "stdout",
     "output_type": "stream",
     "text": [
      "Answer #1 2120749\n",
      "Answer #2 2138382217\n"
     ]
    }
   ],
   "source": [
    "lines: List[str] = get_lines(2)\n",
    "commands: List[Command] = [parse_command(line) for line in lines]\n",
    "\n",
    "print(f\"Answer #1 {position_times_depth(commands)}\")\n",
    "print(f\"Answer #2 {position_times_depth(commands, use_aim=True)}\")"
   ]
  },
  {
   "cell_type": "markdown",
   "metadata": {},
   "source": [
    "# --- Day 3: Binary Diagnostic ---"
   ]
  },
  {
   "cell_type": "code",
   "execution_count": 174,
   "metadata": {},
   "outputs": [],
   "source": [
    "def parse_reading(line: str) -> List[int]:\n",
    "    return [int(x) for x in list(line)]"
   ]
  },
  {
   "cell_type": "code",
   "execution_count": 175,
   "metadata": {},
   "outputs": [],
   "source": [
    "def count_values(readings: List[List[int]]) -> Dict[Tuple[int, int], int]:\n",
    "    counter = defaultdict(int)\n",
    "\n",
    "    for reading in readings:\n",
    "        for i, value in enumerate(reading):\n",
    "            counter[(i, value)] += 1\n",
    "\n",
    "    return counter\n"
   ]
  },
  {
   "cell_type": "code",
   "execution_count": 176,
   "metadata": {},
   "outputs": [],
   "source": [
    "def get_power_consumption(readings: List[List[int]]) -> int:\n",
    "    epsilon_binary = []\n",
    "    gamma_binary = []\n",
    "\n",
    "    counter = count_values(readings)\n",
    "\n",
    "    for i in range(len(readings[0])):\n",
    "        most_common_value = max(0, 1, key=lambda value: counter[(i, value)])\n",
    "        least_common_value = int(not most_common_value)\n",
    "        \n",
    "        epsilon_binary.append(str(most_common_value))\n",
    "        gamma_binary.append(str(least_common_value))\n",
    "\n",
    "    epsilon = int(\"\".join(epsilon_binary), 2)\n",
    "    gamma = int(\"\".join(gamma_binary), 2)\n",
    "\n",
    "    return epsilon * gamma\n"
   ]
  },
  {
   "cell_type": "code",
   "execution_count": 177,
   "metadata": {},
   "outputs": [],
   "source": [
    "def get_life_support_rating(readings: List[List[int]]) -> int:    \n",
    "    oxygen_candidates = readings\n",
    "    co2_candidates = readings\n",
    "    oxygen_rating = None\n",
    "    co2_rating = None\n",
    "\n",
    "    for i in range(len(readings[0])):\n",
    "        oxygen_counter = count_values(oxygen_candidates)\n",
    "        co2_counter = count_values(co2_candidates)\n",
    "        o2_count_0 = oxygen_counter[(i, 0)]\n",
    "        o2_count_1 = oxygen_counter[(i, 1)]\n",
    "        co2_count_0 = co2_counter[(i, 0)]\n",
    "        co2_count_1 = co2_counter[(i, 1)]\n",
    "\n",
    "        if o2_count_0 == o2_count_1:\n",
    "            oxygen_predicate = lambda x: x == 1\n",
    "        else:\n",
    "            oxygen_predicate = lambda x: x == max(0, 1, key=lambda v: oxygen_counter[(i, v)])\n",
    "\n",
    "        if co2_count_0 == co2_count_1:\n",
    "            co2_predicate = lambda x: x == 0\n",
    "        else:\n",
    "            co2_predicate = lambda x: x == min(0, 1, key=lambda v: co2_counter[(i, v)])\n",
    "\n",
    "        oxygen_candidates = [reading for reading in oxygen_candidates if oxygen_predicate(reading[i])]\n",
    "        co2_candidates = [reading for reading in co2_candidates if co2_predicate(reading[i])]\n",
    "\n",
    "        if len(oxygen_candidates) == 1:\n",
    "            oxygen_rating = int(\"\".join(str(x) for x in oxygen_candidates[0]), 2)\n",
    "        \n",
    "        if len(co2_candidates) == 1:\n",
    "            co2_rating = int(\"\".join(str(x) for x in co2_candidates[0]), 2)\n",
    "\n",
    "        if oxygen_rating is not None and co2_rating is not None:\n",
    "            break\n",
    "\n",
    "    return oxygen_rating * co2_rating\n"
   ]
  },
  {
   "cell_type": "code",
   "execution_count": 178,
   "metadata": {},
   "outputs": [
    {
     "name": "stdout",
     "output_type": "stream",
     "text": [
      "Answer #1: 3374136\n",
      "Answer #2: 4432698\n"
     ]
    }
   ],
   "source": [
    "lines: List[str] = get_lines(3)\n",
    "readings: List[List[int]] = [parse_reading(line) for line in lines]\n",
    "\n",
    "print(f\"Answer #1: {get_power_consumption(readings)}\")\n",
    "print(f\"Answer #2: {get_life_support_rating(readings)}\")"
   ]
  },
  {
   "cell_type": "markdown",
   "metadata": {},
   "source": [
    "# --- Day 4: Giant Squid ---"
   ]
  },
  {
   "cell_type": "code",
   "execution_count": 179,
   "metadata": {},
   "outputs": [],
   "source": [
    "Board = List[List[Tuple[int, bool]]]"
   ]
  },
  {
   "cell_type": "code",
   "execution_count": 180,
   "metadata": {},
   "outputs": [],
   "source": [
    "def parse_nums(raw_nums: str) -> List[int]:\n",
    "    return [int(num) for num in raw_nums.split(\",\")]"
   ]
  },
  {
   "cell_type": "code",
   "execution_count": 181,
   "metadata": {},
   "outputs": [],
   "source": [
    "def parse_boards(raw_boards: List[str]) -> List[Board]:\n",
    "    return [[[(int(x), False) for x in row.split(\" \") if x] for row in board.split(\"\\n\") if row] for board in raw_boards]"
   ]
  },
  {
   "cell_type": "code",
   "execution_count": 182,
   "metadata": {},
   "outputs": [],
   "source": [
    "def rows_solved(board: Board) -> bool:\n",
    "    for row in board:\n",
    "        if all(marked for marked in row):\n",
    "            return True\n",
    "    return False"
   ]
  },
  {
   "cell_type": "code",
   "execution_count": 183,
   "metadata": {},
   "outputs": [],
   "source": [
    "def board_solved(board: Board) -> bool:\n",
    "    marked_board = [[marked for _, marked in row] for row in board]\n",
    "    transposed_board = list(map(list, zip(*marked_board)))\n",
    "    return rows_solved(marked_board) or rows_solved(transposed_board)"
   ]
  },
  {
   "cell_type": "code",
   "execution_count": 184,
   "metadata": {},
   "outputs": [],
   "source": [
    "def update_board(board: Board, drawn_num: int) -> Board:\n",
    "    updated_board = []\n",
    "    for row in board:\n",
    "        updated_row = []\n",
    "        for num, marked in row:\n",
    "            updated_row.append((num, drawn_num == num or marked))\n",
    "        updated_board.append(updated_row)\n",
    "    \n",
    "    return updated_board"
   ]
  },
  {
   "cell_type": "code",
   "execution_count": 185,
   "metadata": {},
   "outputs": [],
   "source": [
    "def compute_bingo_score(board: Board, num: int) -> int:\n",
    "    unmarked_sum = sum(x for row in board for x, marked in row if not marked)\n",
    "\n",
    "    return unmarked_sum * num"
   ]
  },
  {
   "cell_type": "code",
   "execution_count": 186,
   "metadata": {},
   "outputs": [],
   "source": [
    "def solve_bingo(drawn_nums: List[int], boards: List[Board], winner_first=True) -> int:\n",
    "    updated_boards = boards\n",
    "    solved_boards = []\n",
    "    for num in drawn_nums:\n",
    "        updated_boards = [update_board(board, num) for board in updated_boards if board not in solved_boards]\n",
    "        for board in updated_boards:\n",
    "            if board_solved(board):\n",
    "                if winner_first:\n",
    "                    return compute_bingo_score(board, num)\n",
    "                solved_boards.append(board)\n",
    "                if len(solved_boards) == len(boards):\n",
    "                    return compute_bingo_score(board, num)"
   ]
  },
  {
   "cell_type": "code",
   "execution_count": 187,
   "metadata": {},
   "outputs": [
    {
     "name": "stdout",
     "output_type": "stream",
     "text": [
      "Answer #1: 35670\n",
      "Answer #2: 22704\n"
     ]
    }
   ],
   "source": [
    "with open(\"inputs/day4.txt\", \"r\") as f:\n",
    "    raw_nums, *raw_boards = f.read().split(\"\\n\\n\")\n",
    "    \n",
    "    nums = parse_nums(raw_nums)\n",
    "    boards = parse_boards(raw_boards)\n",
    "\n",
    "print(f\"Answer #1: {solve_bingo(nums, boards)}\")\n",
    "print(f\"Answer #2: {solve_bingo(nums, boards, winner_first=False)}\")"
   ]
  },
  {
   "cell_type": "markdown",
   "metadata": {},
   "source": [
    "# --- Day 5: Hydrothermal Venture ---"
   ]
  },
  {
   "cell_type": "code",
   "execution_count": 188,
   "metadata": {},
   "outputs": [],
   "source": [
    "Point = Tuple[int, int]\n",
    "Segment = Tuple[Point, Point]"
   ]
  },
  {
   "cell_type": "code",
   "execution_count": 189,
   "metadata": {},
   "outputs": [],
   "source": [
    "def point_slope(x: int, segment: Segment) -> Point:\n",
    "    ((x1, y1), (x2, y2)) = segment\n",
    "    y = (y2 - y1) / (x2 - x1) * (x - x1) + y1\n",
    "    \n",
    "    return x, int(y)"
   ]
  },
  {
   "cell_type": "code",
   "execution_count": 190,
   "metadata": {},
   "outputs": [],
   "source": [
    "def parse_segments(lines: List[str]) -> List[Segment]:\n",
    "    return [[tuple(int(coord) for coord in raw_point.split(\",\")) for raw_point in line.split(\" -> \")] for line in lines]"
   ]
  },
  {
   "cell_type": "code",
   "execution_count": 191,
   "metadata": {},
   "outputs": [],
   "source": [
    "def unfold_segment(segment: Segment, count_diagonals=True) -> List[Point]:\n",
    "    ((x1, y1), (x2, y2)) = segment\n",
    "    min_x, max_x = sorted([x1, x2])\n",
    "    min_y, max_y = sorted([y1, y2])\n",
    "    domain = range(min_x, max_x + 1)\n",
    "\n",
    "    if x1 == x2:\n",
    "        return [(x1, y) for y in range(min_y, max_y + 1)]\n",
    "\n",
    "    return [point_slope(x, segment) for x in domain if count_diagonals or y1 == y2]"
   ]
  },
  {
   "cell_type": "code",
   "execution_count": 192,
   "metadata": {},
   "outputs": [],
   "source": [
    "def unfold_points(segments: List[Segment], count_diagonals=True) -> List[Point]:\n",
    "    return [point for segment in segments for point in unfold_segment(segment, count_diagonals=count_diagonals)]"
   ]
  },
  {
   "cell_type": "code",
   "execution_count": 193,
   "metadata": {},
   "outputs": [],
   "source": [
    "def count_overlapping_points(points: List[Point], threshold: int = 2) -> int:\n",
    "    counter = Counter(points)\n",
    "\n",
    "    return sum(1 for _, count in counter.items() if count >= threshold)"
   ]
  },
  {
   "cell_type": "code",
   "execution_count": 194,
   "metadata": {},
   "outputs": [
    {
     "name": "stdout",
     "output_type": "stream",
     "text": [
      "Answer #1: 5608\n",
      "Answer #1: 20299\n"
     ]
    }
   ],
   "source": [
    "with open(\"inputs/day5.txt\", \"r\") as f:\n",
    "    lines = f.read().splitlines()\n",
    "    segments = parse_segments(lines)\n",
    "    straight_points = unfold_points(segments, count_diagonals=False)\n",
    "    points = unfold_points(segments)\n",
    "\n",
    "print(f\"Answer #1: {count_overlapping_points(straight_points)}\")\n",
    "print(f\"Answer #1: {count_overlapping_points(points)}\")"
   ]
  },
  {
   "cell_type": "markdown",
   "metadata": {},
   "source": [
    "# --- Day 6: Lanternfish ---"
   ]
  },
  {
   "cell_type": "code",
   "execution_count": 195,
   "metadata": {},
   "outputs": [],
   "source": [
    "def simulate_lanternfish_naive(fish: List[int], days=80) -> int:\n",
    "    fish_counter = fish.copy()\n",
    "    for day in range(days):\n",
    "        new_fish_counter = []\n",
    "        for fish_timer in fish_counter:\n",
    "            if fish_timer == 0:\n",
    "                new_fish_counter.append(6)\n",
    "                new_fish_counter.append(8)\n",
    "            else:\n",
    "                new_fish_counter.append(fish_timer - 1)\n",
    "        fish_counter = new_fish_counter\n",
    "\n",
    "    return len(fish_counter)"
   ]
  },
  {
   "cell_type": "code",
   "execution_count": 196,
   "metadata": {},
   "outputs": [],
   "source": [
    "def simulate_lanternfish(fish: List[int], days=256) -> int:\n",
    "    fish_counter = Counter(fish)\n",
    "\n",
    "    for _ in range(days):\n",
    "        spawned = fish_counter.pop(0, 0)\n",
    "        fish_counter = Counter({i - 1: fish for i, fish in fish_counter.items()})\n",
    "        fish_counter[8] += spawned\n",
    "        fish_counter[6] += spawned\n",
    "\n",
    "\n",
    "    return sum(fish_counter.values())"
   ]
  },
  {
   "cell_type": "code",
   "execution_count": 197,
   "metadata": {},
   "outputs": [
    {
     "name": "stdout",
     "output_type": "stream",
     "text": [
      "Answer #1 374927\n",
      "Answer #2 1687617803407\n"
     ]
    }
   ],
   "source": [
    "with open(\"inputs/day6.txt\", \"r\") as f:\n",
    "    fish = [int(fish) for fish in f.read().split(\",\")]\n",
    "\n",
    "print(f\"Answer #1 {simulate_lanternfish_naive(fish)}\")\n",
    "print(f\"Answer #2 {simulate_lanternfish(fish, days=256)}\")"
   ]
  }
 ],
 "metadata": {
  "interpreter": {
   "hash": "aee8b7b246df8f9039afb4144a1f6fd8d2ca17a180786b69acc140d282b71a49"
  },
  "kernelspec": {
   "display_name": "Python 3.9.7 64-bit",
   "language": "python",
   "name": "python3"
  },
  "language_info": {
   "codemirror_mode": {
    "name": "ipython",
    "version": 3
   },
   "file_extension": ".py",
   "mimetype": "text/x-python",
   "name": "python",
   "nbconvert_exporter": "python",
   "pygments_lexer": "ipython3",
   "version": "3.10.1"
  },
  "orig_nbformat": 4
 },
 "nbformat": 4,
 "nbformat_minor": 2
}
