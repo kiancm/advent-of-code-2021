{
 "cells": [
  {
   "cell_type": "code",
   "execution_count": 19,
   "metadata": {},
   "outputs": [],
   "source": [
    "from typing import List"
   ]
  },
  {
   "cell_type": "markdown",
   "metadata": {},
   "source": [
    "# Day 1"
   ]
  },
  {
   "cell_type": "code",
   "execution_count": 20,
   "metadata": {},
   "outputs": [],
   "source": [
    "def count_increases(depths: List[int]) -> int:\n",
    "    \"\"\"Counts the number of times the depth increases\"\"\"\n",
    "\n",
    "    return sum(d2 - d1 > 0 for d1, d2 in zip(depths, depths[1:]))"
   ]
  },
  {
   "cell_type": "code",
   "execution_count": 21,
   "metadata": {},
   "outputs": [],
   "source": [
    "def sliding_sum(depths: List[int], window_size: int = 3) -> List[int]:\n",
    "    \"\"\"Computes a window_size-element sliding sum of the list of numbers\"\"\"\n",
    "\n",
    "    views: List[List[int]] = [depths[i:] for i in range(window_size)]\n",
    "    return [sum(window) for window in zip(*views)]"
   ]
  },
  {
   "cell_type": "code",
   "execution_count": 22,
   "metadata": {},
   "outputs": [
    {
     "name": "stdout",
     "output_type": "stream",
     "text": [
      "Answer #1: 1532\n",
      "Answer #2: 1571\n"
     ]
    }
   ],
   "source": [
    "with open(\"inputs/day1.txt\", \"r\") as f:\n",
    "    lines: List[str] = f.read().splitlines()\n",
    "    depths: List[int] = [int(line) for line in lines]\n",
    "\n",
    "print(f\"Answer #1: {count_increases(depths)}\")\n",
    "print(f\"Answer #2: {count_increases(sliding_sum(depths))}\")"
   ]
  },
  {
   "cell_type": "code",
   "execution_count": null,
   "metadata": {},
   "outputs": [],
   "source": []
  }
 ],
 "metadata": {
  "interpreter": {
   "hash": "aee8b7b246df8f9039afb4144a1f6fd8d2ca17a180786b69acc140d282b71a49"
  },
  "kernelspec": {
   "display_name": "Python 3.9.7 64-bit",
   "language": "python",
   "name": "python3"
  },
  "language_info": {
   "codemirror_mode": {
    "name": "ipython",
    "version": 3
   },
   "file_extension": ".py",
   "mimetype": "text/x-python",
   "name": "python",
   "nbconvert_exporter": "python",
   "pygments_lexer": "ipython3",
   "version": "3.10.1"
  },
  "orig_nbformat": 4
 },
 "nbformat": 4,
 "nbformat_minor": 2
}
